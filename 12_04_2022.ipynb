{
  "nbformat": 4,
  "nbformat_minor": 0,
  "metadata": {
    "colab": {
      "name": "12/04/2022",
      "provenance": [],
      "authorship_tag": "ABX9TyOLcKNvZ5r6l7ZXz90ChT8H",
      "include_colab_link": true
    },
    "kernelspec": {
      "name": "python3",
      "display_name": "Python 3"
    },
    "language_info": {
      "name": "python"
    }
  },
  "cells": [
    {
      "cell_type": "markdown",
      "metadata": {
        "id": "view-in-github",
        "colab_type": "text"
      },
      "source": [
        "<a href=\"https://colab.research.google.com/github/sreekar-1726/c-practice/blob/main/12_04_2022.ipynb\" target=\"_parent\"><img src=\"https://colab.research.google.com/assets/colab-badge.svg\" alt=\"Open In Colab\"/></a>"
      ]
    },
    {
      "cell_type": "code",
      "execution_count": 2,
      "metadata": {
        "colab": {
          "base_uri": "https://localhost:8080/"
        },
        "id": "fLnYLu5zTLT2",
        "outputId": "e78a3d27-338f-4272-e966-70eda96f3a9c"
      },
      "outputs": [
        {
          "output_type": "stream",
          "name": "stdout",
          "text": [
            "5\n"
          ]
        }
      ],
      "source": [
        "fruits = {\"apple\", \"banana\", \"cherry\",\"strawberri\",\"watermelon\"}\n",
        "\n",
        "print(len(fruits))"
      ]
    },
    {
      "cell_type": "code",
      "source": [
        "set1 = {\"apple\", \"banana\", \"cherry\",\"strawberri\",\"watermelon\"}\n",
        "set2 = {1, 5, 7, 9, 3, 2, 6, 8}\n",
        "set3 = {True, False, False,True}\n",
        "\n",
        "print(set1)\n",
        "print(set2)\n",
        "print(set3)\n",
        "print(type(set1))\n",
        "print(set2)\n",
        "for x in set1:\n",
        "  print(x)\n",
        "  print(\"2\" in set2 )\n"
      ],
      "metadata": {
        "colab": {
          "base_uri": "https://localhost:8080/"
        },
        "id": "S5UfyShOUNOD",
        "outputId": "dc176d28-ce77-4363-f447-65b579feb903"
      },
      "execution_count": 9,
      "outputs": [
        {
          "output_type": "stream",
          "name": "stdout",
          "text": [
            "{'banana', 'strawberri', 'cherry', 'apple', 'watermelon'}\n",
            "{1, 2, 3, 5, 6, 7, 8, 9}\n",
            "{False, True}\n",
            "<class 'set'>\n",
            "{1, 2, 3, 5, 6, 7, 8, 9}\n",
            "banana\n",
            "False\n",
            "strawberri\n",
            "False\n",
            "cherry\n",
            "False\n",
            "apple\n",
            "False\n",
            "watermelon\n",
            "False\n"
          ]
        }
      ]
    },
    {
      "cell_type": "code",
      "source": [
        "set1 = {\"apple\", \"banana\", \"cherry\",\"strawberri\",\"watermelon\"}\n",
        "set2 = {1, 5, 7, 9, 3, 2, 6, 8}\n",
        "set3 = {True, False, False,True}\n",
        "\n",
        "print(set1)\n",
        "print(set2)\n",
        "print(set3)"
      ],
      "metadata": {
        "colab": {
          "base_uri": "https://localhost:8080/"
        },
        "id": "tKBbaUHfXC1h",
        "outputId": "514066d6-7056-413d-c02c-43a047b22d09"
      },
      "execution_count": 10,
      "outputs": [
        {
          "output_type": "stream",
          "name": "stdout",
          "text": [
            "{'banana', 'strawberri', 'cherry', 'apple', 'watermelon'}\n",
            "{1, 2, 3, 5, 6, 7, 8, 9}\n",
            "{False, True}\n"
          ]
        }
      ]
    },
    {
      "cell_type": "code",
      "source": [
        "set1 = {\"apple\", \"banana\", \"cherry\",\"strawberri\",\"watermelon\"}\n",
        "set2 = {1, 5, 7, 9, 3, 2, 6, 8}\n",
        "set3 = {True, False, False,True}\n",
        "print(type(set1))"
      ],
      "metadata": {
        "colab": {
          "base_uri": "https://localhost:8080/"
        },
        "id": "lYBpD_lpXaha",
        "outputId": "ae3a2afd-2c6f-4ad5-ed8c-c7da6d1b82dc"
      },
      "execution_count": 11,
      "outputs": [
        {
          "output_type": "stream",
          "name": "stdout",
          "text": [
            "<class 'set'>\n"
          ]
        }
      ]
    },
    {
      "cell_type": "code",
      "source": [
        "set1 = {\"apple\", \"banana\", \"cherry\",\"strawberri\",\"watermelon\"}\n",
        "set2 = {1, 5, 7, 9, 3, 2, 6, 8}\n",
        "set3 = {True, False, False,True}\n",
        "print(set2)\n"
      ],
      "metadata": {
        "colab": {
          "base_uri": "https://localhost:8080/"
        },
        "id": "QzcYdO_EXkvt",
        "outputId": "148378cf-7f07-4abc-9767-e7af33ce24d1"
      },
      "execution_count": 12,
      "outputs": [
        {
          "output_type": "stream",
          "name": "stdout",
          "text": [
            "{1, 2, 3, 5, 6, 7, 8, 9}\n"
          ]
        }
      ]
    },
    {
      "cell_type": "code",
      "source": [
        "set1 = {\"apple\", \"banana\", \"cherry\",\"strawberri\",\"watermelon\"}\n",
        "set2 = {1, 5, 7, 9, 3, 2, 6, 8}\n",
        "set3 = {True, False, False,True}\n",
        "for x in set1:\n",
        "  print(x)\n"
      ],
      "metadata": {
        "colab": {
          "base_uri": "https://localhost:8080/"
        },
        "id": "JCWG-GdkXvc5",
        "outputId": "b290f570-c49d-4f78-c1f3-c7e83493accb"
      },
      "execution_count": 13,
      "outputs": [
        {
          "output_type": "stream",
          "name": "stdout",
          "text": [
            "banana\n",
            "strawberri\n",
            "cherry\n",
            "apple\n",
            "watermelon\n"
          ]
        }
      ]
    },
    {
      "cell_type": "code",
      "source": [
        "set1 = {\"apple\", \"banana\", \"cherry\",\"strawberri\",\"watermelon\"}\n",
        "set2 = {\"1\", \"9\", \"3\" , \"2\"}\n",
        "set3 = {True, False, False,True}\n",
        "print(\"2\" in set2 )"
      ],
      "metadata": {
        "colab": {
          "base_uri": "https://localhost:8080/"
        },
        "id": "AuySb9e4X6pg",
        "outputId": "a249cc64-2374-499f-c70d-0186088b9932"
      },
      "execution_count": 15,
      "outputs": [
        {
          "output_type": "stream",
          "name": "stdout",
          "text": [
            "True\n"
          ]
        }
      ]
    },
    {
      "cell_type": "code",
      "source": [
        "set1 = {\"apple\", \"banana\", \"cherry\",\"strawberri\",\"watermelon\"}\n",
        "set2 = {\"1\", \"9\", \"3\" , \"2\"}\n",
        "set1.add(\"orange\")\n",
        "set2.add(\"5\")\n",
        "print(set1)\n",
        "print(set2)"
      ],
      "metadata": {
        "colab": {
          "base_uri": "https://localhost:8080/"
        },
        "id": "-6q2OOSuYsjh",
        "outputId": "f08a00d2-c246-4b1e-bab9-ac8b198c8597"
      },
      "execution_count": 27,
      "outputs": [
        {
          "output_type": "stream",
          "name": "stdout",
          "text": [
            "{'banana', 'strawberri', 'cherry', 'orange', 'apple', 'watermelon'}\n",
            "{'2', '5', '1', '9', '3'}\n"
          ]
        }
      ]
    },
    {
      "cell_type": "code",
      "source": [
        "set1 = {\"apple\", \"banana\", \"cherry\"}\n",
        "set2 = {\"pineapple\", \"mango\", \"papaya\"}\n",
        "\n",
        "set1.update(set2)\n",
        "\n",
        "print(set1)\n"
      ],
      "metadata": {
        "colab": {
          "base_uri": "https://localhost:8080/"
        },
        "id": "uiM37PU5ZXfo",
        "outputId": "1d8c28d8-e686-4592-d361-87b2ef0e6791"
      },
      "execution_count": 18,
      "outputs": [
        {
          "output_type": "stream",
          "name": "stdout",
          "text": [
            "{'banana', 'papaya', 'cherry', 'mango', 'pineapple', 'apple'}\n"
          ]
        }
      ]
    },
    {
      "cell_type": "code",
      "source": [
        "set1 = {\"apple\", \"banana\", \"cherry\"}\n",
        "set2 = [\"kiwi\", \"orange\"]\n",
        "\n",
        "set1.update(set2)\n",
        "\n",
        "print(set1)"
      ],
      "metadata": {
        "colab": {
          "base_uri": "https://localhost:8080/"
        },
        "id": "gMimECzLZzQs",
        "outputId": "e5d914ee-b2bb-409a-df35-768f01b1d60f"
      },
      "execution_count": 19,
      "outputs": [
        {
          "output_type": "stream",
          "name": "stdout",
          "text": [
            "{'kiwi', 'banana', 'cherry', 'orange', 'apple'}\n"
          ]
        }
      ]
    },
    {
      "cell_type": "code",
      "source": [
        "set1 = {\"apple\", \"banana\", \"cherry\",\"strawberri\",\"watermelon\"}\n",
        "\n",
        "set1.remove(\"banana\")\n",
        "set1.remove(\"strawberri\")\n",
        "print(set1)\n"
      ],
      "metadata": {
        "colab": {
          "base_uri": "https://localhost:8080/"
        },
        "id": "KhLeiq-waFqO",
        "outputId": "fdc0067e-2308-49a9-b632-e9ed4d4d890c"
      },
      "execution_count": 26,
      "outputs": [
        {
          "output_type": "stream",
          "name": "stdout",
          "text": [
            "{'cherry', 'apple', 'watermelon'}\n"
          ]
        }
      ]
    },
    {
      "cell_type": "code",
      "source": [
        "set = {\"apple\", \"banana\", \"cherry\",\"strawberri\",\"watermelon\"}\n",
        "\n",
        "set.discard(\"banana\")\n",
        "print(set)"
      ],
      "metadata": {
        "colab": {
          "base_uri": "https://localhost:8080/"
        },
        "id": "kUh6hIIqbXMp",
        "outputId": "9b6da80f-a03b-465b-a0d1-60819e6b2242"
      },
      "execution_count": 31,
      "outputs": [
        {
          "output_type": "stream",
          "name": "stdout",
          "text": [
            "{'strawberri', 'cherry', 'apple', 'watermelon'}\n"
          ]
        }
      ]
    },
    {
      "cell_type": "code",
      "source": [
        "set = {\"apple\", \"banana\", \"cherry\"}\n",
        "\n",
        "x = set.pop()\n",
        "\n",
        "print(x)\n",
        "\n",
        "print(set)"
      ],
      "metadata": {
        "colab": {
          "base_uri": "https://localhost:8080/"
        },
        "id": "VIxFmOS6ctMo",
        "outputId": "3dc7fc57-d10b-48b1-ce0e-92adc2808651"
      },
      "execution_count": 33,
      "outputs": [
        {
          "output_type": "stream",
          "name": "stdout",
          "text": [
            "cherry\n",
            "{'banana', 'apple'}\n"
          ]
        }
      ]
    },
    {
      "cell_type": "code",
      "source": [
        "set = {\"apple\", \"banana\", \"cherry\"}\n",
        "\n",
        "set.clear()\n",
        "\n",
        "print(set)"
      ],
      "metadata": {
        "colab": {
          "base_uri": "https://localhost:8080/"
        },
        "id": "r1C6b6eac8Mj",
        "outputId": "6e24d84e-e581-4425-b18d-ca566372412c"
      },
      "execution_count": 34,
      "outputs": [
        {
          "output_type": "stream",
          "name": "stdout",
          "text": [
            "set()\n"
          ]
        }
      ]
    },
    {
      "cell_type": "code",
      "source": [
        "set = {\"apple\", \"banana\", \"cherry\"}\n",
        "\n",
        "del set\n",
        "\n",
        "print(set)"
      ],
      "metadata": {
        "colab": {
          "base_uri": "https://localhost:8080/"
        },
        "id": "cE1tVniHdPPL",
        "outputId": "0324876f-e8b2-4f08-d3dc-431c8a1f8d83"
      },
      "execution_count": 35,
      "outputs": [
        {
          "output_type": "stream",
          "name": "stdout",
          "text": [
            "<class 'set'>\n"
          ]
        }
      ]
    },
    {
      "cell_type": "code",
      "source": [
        "set = {\"apple\", \"banana\", \"cherry\"}\n",
        "\n",
        "for x in set:\n",
        "  print(x)"
      ],
      "metadata": {
        "colab": {
          "base_uri": "https://localhost:8080/"
        },
        "id": "2fLQEAyPdeQP",
        "outputId": "79f1f935-7888-4e05-e7a4-7fb8913fa24f"
      },
      "execution_count": 36,
      "outputs": [
        {
          "output_type": "stream",
          "name": "stdout",
          "text": [
            "cherry\n",
            "banana\n",
            "apple\n"
          ]
        }
      ]
    },
    {
      "cell_type": "code",
      "source": [
        "set1 = {\"a\", \"b\" , \"c\"}\n",
        "set2 = {1, 2, 3}\n",
        "\n",
        "set3 = set1.union(set2)\n",
        "print(set3)"
      ],
      "metadata": {
        "colab": {
          "base_uri": "https://localhost:8080/"
        },
        "id": "0h5m-bZgdl63",
        "outputId": "8999c254-c0fb-426a-9f78-775b71b8fa59"
      },
      "execution_count": 37,
      "outputs": [
        {
          "output_type": "stream",
          "name": "stdout",
          "text": [
            "{1, 2, 3, 'b', 'a', 'c'}\n"
          ]
        }
      ]
    },
    {
      "cell_type": "code",
      "source": [
        "set1 = {\"a\", \"b\" , \"c\"}\n",
        "set2 = {1, 2, 3}\n",
        "\n",
        "set1.update(set2)\n",
        "print(set1)"
      ],
      "metadata": {
        "colab": {
          "base_uri": "https://localhost:8080/"
        },
        "id": "MsrzH6HZdwJb",
        "outputId": "5b75a59f-f130-4799-b8fb-08121102cea4"
      },
      "execution_count": 38,
      "outputs": [
        {
          "output_type": "stream",
          "name": "stdout",
          "text": [
            "{1, 2, 3, 'b', 'a', 'c'}\n"
          ]
        }
      ]
    },
    {
      "cell_type": "code",
      "source": [
        "x = {\"apple\", \"banana\", \"cherry\"}\n",
        "y = {\"google\", \"microsoft\", \"apple\"}\n",
        "\n",
        "x.intersection_update(y)\n",
        "\n",
        "print(x)"
      ],
      "metadata": {
        "colab": {
          "base_uri": "https://localhost:8080/"
        },
        "id": "LK4MResAd3jb",
        "outputId": "05bcaec1-865b-4d32-ef77-1941517708da"
      },
      "execution_count": 39,
      "outputs": [
        {
          "output_type": "stream",
          "name": "stdout",
          "text": [
            "{'apple'}\n"
          ]
        }
      ]
    },
    {
      "cell_type": "code",
      "source": [
        "x = {\"apple\", \"banana\", \"cherry\"}\n",
        "y = {\"google\", \"microsoft\", \"apple\"}\n",
        "\n",
        "z = x.intersection(y)\n",
        "\n",
        "print(z)"
      ],
      "metadata": {
        "colab": {
          "base_uri": "https://localhost:8080/"
        },
        "id": "46fIEp8VeAbm",
        "outputId": "552a19bd-b958-4d14-a25d-9f2fe4e82ada"
      },
      "execution_count": 40,
      "outputs": [
        {
          "output_type": "stream",
          "name": "stdout",
          "text": [
            "{'apple'}\n"
          ]
        }
      ]
    },
    {
      "cell_type": "code",
      "source": [
        "x = {\"apple\", \"banana\", \"cherry\"}\n",
        "y = {\"google\", \"microsoft\", \"apple\"}\n",
        "\n",
        "x.symmetric_difference_update(y)\n",
        "\n",
        "print(x)"
      ],
      "metadata": {
        "colab": {
          "base_uri": "https://localhost:8080/"
        },
        "id": "pddKP2s4eHHe",
        "outputId": "5beffa18-767e-4003-ac48-03d2681e52b0"
      },
      "execution_count": 41,
      "outputs": [
        {
          "output_type": "stream",
          "name": "stdout",
          "text": [
            "{'google', 'cherry', 'banana', 'microsoft'}\n"
          ]
        }
      ]
    },
    {
      "cell_type": "code",
      "source": [
        "x = {\"apple\", \"banana\", \"cherry\"}\n",
        "y = {\"google\", \"microsoft\", \"apple\"}\n",
        "\n",
        "z = x.symmetric_difference(y)\n",
        "\n",
        "print(z)"
      ],
      "metadata": {
        "colab": {
          "base_uri": "https://localhost:8080/"
        },
        "id": "63aVsmZteMh9",
        "outputId": "3fc3bb5f-2a9d-45ac-ab7b-c88f21f809ad"
      },
      "execution_count": 42,
      "outputs": [
        {
          "output_type": "stream",
          "name": "stdout",
          "text": [
            "{'google', 'banana', 'microsoft', 'cherry'}\n"
          ]
        }
      ]
    }
  ]
}