{
  "nbformat": 4,
  "nbformat_minor": 0,
  "metadata": {
    "colab": {
      "name": "Untitled3.ipynb",
      "provenance": [],
      "authorship_tag": "ABX9TyOsw+1/3CnKk2g0+hRoPs0P",
      "include_colab_link": true
    },
    "kernelspec": {
      "name": "python3",
      "display_name": "Python 3"
    },
    "language_info": {
      "name": "python"
    }
  },
  "cells": [
    {
      "cell_type": "markdown",
      "metadata": {
        "id": "view-in-github",
        "colab_type": "text"
      },
      "source": [
        "<a href=\"https://colab.research.google.com/github/sreekar-1726/c-practice/blob/main/5%20sub%20marks.ipynb\" target=\"_parent\"><img src=\"https://colab.research.google.com/assets/colab-badge.svg\" alt=\"Open In Colab\"/></a>"
      ]
    },
    {
      "cell_type": "code",
      "execution_count": 4,
      "metadata": {
        "id": "6Mn6p9oRPhlc"
      },
      "outputs": [],
      "source": [
        "#find the person whether eligible to vote or not"
      ]
    },
    {
      "cell_type": "code",
      "source": [
        "a=int(input())\n",
        "if a>=18:\n",
        "          print('elgible to vote')\n",
        "else:\n",
        "          print('not eligible to vote')"
      ],
      "metadata": {
        "colab": {
          "base_uri": "https://localhost:8080/"
        },
        "id": "AqsIQDSxQWsH",
        "outputId": "2d355797-37f1-45e6-cd06-f1d0f1348385"
      },
      "execution_count": 7,
      "outputs": [
        {
          "output_type": "stream",
          "name": "stdout",
          "text": [
            "25\n",
            "elgible to vote\n"
          ]
        }
      ]
    },
    {
      "cell_type": "code",
      "source": [
        "#gratest of three numbers\n"
      ],
      "metadata": {
        "id": "wU239991RvNm"
      },
      "execution_count": null,
      "outputs": []
    },
    {
      "cell_type": "code",
      "source": [
        "(a,b,c)=(int(input()),int(input()),int(input()))\n",
        "if c<a>b:\n",
        "          print(\"a is grater\")\n",
        "if a<b>c:\n",
        "          print(\"b is grater\")\n",
        "if a<c>b:\n",
        "          print(\"c is grater\")"
      ],
      "metadata": {
        "colab": {
          "base_uri": "https://localhost:8080/"
        },
        "id": "A8qNVgpfTNLx",
        "outputId": "7b5d3de3-0652-4147-cf79-4e9d9b190aca"
      },
      "execution_count": 11,
      "outputs": [
        {
          "output_type": "stream",
          "name": "stdout",
          "text": [
            "7\n",
            "8\n",
            "9\n",
            "c is grater\n"
          ]
        }
      ]
    },
    {
      "cell_type": "code",
      "source": [
        "#enter 5 subject marks and find sum,average,percentage"
      ],
      "metadata": {
        "id": "QVgQP4dhVEG2"
      },
      "execution_count": null,
      "outputs": []
    },
    {
      "cell_type": "code",
      "source": [
        "(a,b,c,d,e)=(int(input()),int(input()),int(input()),int(input()),int(input()))\n",
        "sum=a=b+c+d+e \n",
        "print(int(sum))\n",
        "avg=sum/5\n",
        "print(int(avg))\n",
        "percentage=(sum/500)*100\n",
        "print(int(percentage))\n"
      ],
      "metadata": {
        "colab": {
          "base_uri": "https://localhost:8080/"
        },
        "id": "qFDxqgb5VwFP",
        "outputId": "76383d6c-c044-4e31-ad04-b7b37a2bdcd4"
      },
      "execution_count": 16,
      "outputs": [
        {
          "output_type": "stream",
          "name": "stdout",
          "text": [
            "60\n",
            "70\n",
            "80\n",
            "90\n",
            "95\n",
            "335\n",
            "67\n",
            "67\n"
          ]
        }
      ]
    }
  ]
}