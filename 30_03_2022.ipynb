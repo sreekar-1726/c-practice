{
  "nbformat": 4,
  "nbformat_minor": 0,
  "metadata": {
    "colab": {
      "name": "30/03/2022",
      "provenance": [],
      "authorship_tag": "ABX9TyMJBeJgmsgHF8ck+rID98YB",
      "include_colab_link": true
    },
    "kernelspec": {
      "name": "python3",
      "display_name": "Python 3"
    },
    "language_info": {
      "name": "python"
    }
  },
  "cells": [
    {
      "cell_type": "markdown",
      "metadata": {
        "id": "view-in-github",
        "colab_type": "text"
      },
      "source": [
        "<a href=\"https://colab.research.google.com/github/sreekar-1726/c-practice/blob/main/30_03_2022.ipynb\" target=\"_parent\"><img src=\"https://colab.research.google.com/assets/colab-badge.svg\" alt=\"Open In Colab\"/></a>"
      ]
    },
    {
      "cell_type": "markdown",
      "source": [
        "\n",
        "\n",
        "```\n",
        "##length of the string\n",
        "\n",
        "```\n",
        "\n"
      ],
      "metadata": {
        "id": "Bzll_Oim_yRj"
      }
    },
    {
      "cell_type": "code",
      "execution_count": 2,
      "metadata": {
        "colab": {
          "base_uri": "https://localhost:8080/"
        },
        "id": "BtkSOfE_8n2N",
        "outputId": "7ad53797-d4aa-4d54-d306-f97087803426"
      },
      "outputs": [
        {
          "output_type": "stream",
          "name": "stdout",
          "text": [
            "59\n",
            "My name is sreekar,i came from vijayawada to study in gitam\n"
          ]
        }
      ],
      "source": [
        "a='My name is sreekar,i came from vijayawada to study in gitam'\n",
        "print(len(a))\n",
        "print(a)\n"
      ]
    },
    {
      "cell_type": "code",
      "source": [
        "a='My name is sreekar,i came from vijayawada to study in gitam'\n",
        "print('sreekar' in a)"
      ],
      "metadata": {
        "colab": {
          "base_uri": "https://localhost:8080/"
        },
        "id": "7T2Q9nxP_Zrs",
        "outputId": "d83cc749-0ccb-4db4-ff91-cf0344a951b2"
      },
      "execution_count": 3,
      "outputs": [
        {
          "output_type": "stream",
          "name": "stdout",
          "text": [
            "True\n"
          ]
        }
      ]
    },
    {
      "cell_type": "markdown",
      "source": [
        ""
      ],
      "metadata": {
        "id": "2rIBhxm__vqL"
      }
    },
    {
      "cell_type": "code",
      "source": [
        "a='My name is sreekar,i came from vijayawada to study in gitam'\n",
        "print('s' in a)"
      ],
      "metadata": {
        "colab": {
          "base_uri": "https://localhost:8080/"
        },
        "id": "wGQMdoaq-Btc",
        "outputId": "8be58c19-736e-4289-b94f-6e0cd666b8fc"
      },
      "execution_count": 4,
      "outputs": [
        {
          "output_type": "stream",
          "name": "stdout",
          "text": [
            "True\n"
          ]
        }
      ]
    },
    {
      "cell_type": "code",
      "source": [
        "a='My name is sreekar,i came from vijayawada to study in gitam'\n",
        "print('SREEKAR' in a)"
      ],
      "metadata": {
        "colab": {
          "base_uri": "https://localhost:8080/"
        },
        "id": "4znkmuVoAuEV",
        "outputId": "413ae797-8077-40e5-e73e-6b4222f8da17"
      },
      "execution_count": 5,
      "outputs": [
        {
          "output_type": "stream",
          "name": "stdout",
          "text": [
            "False\n"
          ]
        }
      ]
    },
    {
      "cell_type": "code",
      "source": [
        "a='My name is sreekar,i came from vijayawada to study in gitam'\n",
        "print('s' in a )\n",
        "print('vi'in a)\n",
        "print('hi' in a)"
      ],
      "metadata": {
        "colab": {
          "base_uri": "https://localhost:8080/"
        },
        "id": "cKMINv0KA-gl",
        "outputId": "58cfffb9-1470-4d4f-c279-f22f73cf9c26"
      },
      "execution_count": 8,
      "outputs": [
        {
          "output_type": "stream",
          "name": "stdout",
          "text": [
            "True\n",
            "True\n",
            "False\n"
          ]
        }
      ]
    },
    {
      "cell_type": "code",
      "source": [
        "a='My name is sreekar,i came from vijayawada to study in gitam'\n",
        "print('came' not in a)"
      ],
      "metadata": {
        "colab": {
          "base_uri": "https://localhost:8080/"
        },
        "id": "qBf-BiJ0BS9j",
        "outputId": "b0a29e8d-d58f-4732-8053-b9110d6cbf47"
      },
      "execution_count": 7,
      "outputs": [
        {
          "output_type": "stream",
          "name": "stdout",
          "text": [
            "False\n"
          ]
        }
      ]
    },
    {
      "cell_type": "code",
      "source": [
        "a='My name is sreekar,i came from vijayawada to study in gitam'\n",
        "print('study' in a)\n",
        "print('study' in a,'of' in a)"
      ],
      "metadata": {
        "colab": {
          "base_uri": "https://localhost:8080/"
        },
        "id": "nhd3kBVTB4Az",
        "outputId": "390c51d8-c0d3-43ea-dd85-3cd59110b3ca"
      },
      "execution_count": 12,
      "outputs": [
        {
          "output_type": "stream",
          "name": "stdout",
          "text": [
            "True\n",
            "True False\n"
          ]
        }
      ]
    },
    {
      "cell_type": "markdown",
      "source": [
        "#slicing of A STRING"
      ],
      "metadata": {
        "id": "I1zlwjCXCwNk"
      }
    },
    {
      "cell_type": "code",
      "source": [
        "a=\"i went to rrr movie\"\n",
        "print(a[4:6])"
      ],
      "metadata": {
        "colab": {
          "base_uri": "https://localhost:8080/"
        },
        "id": "wkF4glvSC3ka",
        "outputId": "aaea3520-dc00-4a5f-c3a1-c520d2eae8f9"
      },
      "execution_count": 18,
      "outputs": [
        {
          "output_type": "stream",
          "name": "stdout",
          "text": [
            "nt\n"
          ]
        }
      ]
    },
    {
      "cell_type": "code",
      "source": [
        "a=\"i went to home for pongal\"\n",
        "print(a[1:7])"
      ],
      "metadata": {
        "colab": {
          "base_uri": "https://localhost:8080/"
        },
        "id": "9bOKq0LpDb1_",
        "outputId": "cffe594d-a473-47c8-e33a-5a7438d2d89f"
      },
      "execution_count": 24,
      "outputs": [
        {
          "output_type": "stream",
          "name": "stdout",
          "text": [
            " went \n"
          ]
        }
      ]
    },
    {
      "cell_type": "code",
      "source": [
        "a=\"i went to home for pongal\"\n",
        "print(a[2:6],a[5:12])"
      ],
      "metadata": {
        "colab": {
          "base_uri": "https://localhost:8080/"
        },
        "id": "OkzN5NHiEt79",
        "outputId": "8c5ba6cd-fc78-4ee4-dd70-59c721b1a691"
      },
      "execution_count": 26,
      "outputs": [
        {
          "output_type": "stream",
          "name": "stdout",
          "text": [
            "went t to ho\n"
          ]
        }
      ]
    },
    {
      "cell_type": "markdown",
      "source": [
        "##reverse of a string"
      ],
      "metadata": {
        "id": "ICknPKZvFmIr"
      }
    },
    {
      "cell_type": "code",
      "source": [
        "a=\"i went to home for pongal\"\n",
        "reversed(a)\n",
        "print(a)"
      ],
      "metadata": {
        "colab": {
          "base_uri": "https://localhost:8080/"
        },
        "id": "yu1zXd_kFHGd",
        "outputId": "5825d1a7-69f4-4600-da83-bdb608346b30"
      },
      "execution_count": 27,
      "outputs": [
        {
          "output_type": "stream",
          "name": "stdout",
          "text": [
            "i went to home for pongal\n"
          ]
        }
      ]
    },
    {
      "cell_type": "markdown",
      "source": [
        "##modifying of A STRING"
      ],
      "metadata": {
        "id": "RXDoPIg3GIrj"
      }
    },
    {
      "cell_type": "code",
      "source": [
        "a=\"i went to home for pongal\"\n",
        "print(a.upper()) # upper case\n",
        "print(a.lower()) # lower case"
      ],
      "metadata": {
        "colab": {
          "base_uri": "https://localhost:8080/"
        },
        "id": "lUSEfxUGFYDz",
        "outputId": "5a176b23-f346-4324-eb3e-49dc7eadc1e2"
      },
      "execution_count": 29,
      "outputs": [
        {
          "output_type": "stream",
          "name": "stdout",
          "text": [
            "I WENT TO HOME FOR PONGAL\n",
            "i went to home for pongal\n"
          ]
        }
      ]
    },
    {
      "cell_type": "code",
      "source": [
        "a=\"i went to home for pongal\"\n",
        "print(a.upper()) \n",
        "print(a.lower()) "
      ],
      "metadata": {
        "colab": {
          "base_uri": "https://localhost:8080/"
        },
        "id": "WOzstWoYG0Fm",
        "outputId": "e01f21ef-bcdc-4ce0-97d2-fe526bbbb475"
      },
      "execution_count": 30,
      "outputs": [
        {
          "output_type": "stream",
          "name": "stdout",
          "text": [
            "I WENT TO HOME FOR PONGAL\n",
            "i went to home for pongal\n"
          ]
        }
      ]
    },
    {
      "cell_type": "markdown",
      "source": [
        "##strip"
      ],
      "metadata": {
        "id": "1agPt-JVHZ2C"
      }
    },
    {
      "cell_type": "code",
      "source": [
        "a=\"             i went to home for pongal          \"\n",
        "print(a)\n",
        "print(a.strip())"
      ],
      "metadata": {
        "colab": {
          "base_uri": "https://localhost:8080/"
        },
        "id": "KpNhRA9xG-oZ",
        "outputId": "ca8fa1a1-9e20-42b7-99ec-902043dd6af2"
      },
      "execution_count": 34,
      "outputs": [
        {
          "output_type": "stream",
          "name": "stdout",
          "text": [
            "             i went to home for pongal          \n",
            "i went to home for pongal\n"
          ]
        }
      ]
    },
    {
      "cell_type": "markdown",
      "source": [
        "##replacing of letter in a string\n"
      ],
      "metadata": {
        "id": "vufSFF5XIN1r"
      }
    },
    {
      "cell_type": "code",
      "source": [
        "a=\"i went to home for pongal\"\n",
        "print(a.replace(\"pongal\",\"diwali\"))"
      ],
      "metadata": {
        "colab": {
          "base_uri": "https://localhost:8080/"
        },
        "id": "-PHcTauGII3d",
        "outputId": "3f77f65d-8b02-4968-c6d6-59c9d979fa87"
      },
      "execution_count": 35,
      "outputs": [
        {
          "output_type": "stream",
          "name": "stdout",
          "text": [
            "i went to home for diwali\n"
          ]
        }
      ]
    },
    {
      "cell_type": "markdown",
      "source": [
        "##string concatenation or adding two strings"
      ],
      "metadata": {
        "id": "pLrwNBsLJ-ab"
      }
    },
    {
      "cell_type": "code",
      "source": [
        "a=\"i went to home for pongal\"\n",
        "b=\" i selebrated with my friends \"\n",
        "print(a+b)"
      ],
      "metadata": {
        "colab": {
          "base_uri": "https://localhost:8080/"
        },
        "id": "H_huYelUJD2U",
        "outputId": "7edb49ec-d872-4608-919e-41c712517ead"
      },
      "execution_count": 39,
      "outputs": [
        {
          "output_type": "stream",
          "name": "stdout",
          "text": [
            "i went to home for pongal i selebrated with my friends \n"
          ]
        }
      ]
    },
    {
      "cell_type": "code",
      "source": [
        "a=\"i went to home for pongal\"\n",
        "b=\" i selebrated with my friends \"\n",
        "print(a+\" \"+b)\n"
      ],
      "metadata": {
        "colab": {
          "base_uri": "https://localhost:8080/"
        },
        "id": "U0a-ZkstK-uk",
        "outputId": "87c8be95-cbcf-44d1-a220-690d0bf7a150"
      },
      "execution_count": 43,
      "outputs": [
        {
          "output_type": "stream",
          "name": "stdout",
          "text": [
            "i went to home for pongal  i selebrated with my friends \n"
          ]
        }
      ]
    },
    {
      "cell_type": "markdown",
      "source": [
        "##formatting of string"
      ],
      "metadata": {
        "id": "2gKeN-vbNagj"
      }
    },
    {
      "cell_type": "code",
      "source": [
        "quantity = 5\n",
        "itemno = 365\n",
        "price = 500\n",
        "myorder = \"I want {} pieces of item {} for {} dollars.\"\n",
        "print(myorder.format(quantity, itemno, price))"
      ],
      "metadata": {
        "colab": {
          "base_uri": "https://localhost:8080/"
        },
        "id": "EtTMQGKgPiNW",
        "outputId": "27c268a4-d39e-4f4c-ec12-e98f1d7aece2"
      },
      "execution_count": 47,
      "outputs": [
        {
          "output_type": "stream",
          "name": "stdout",
          "text": [
            "I want 5 pieces of item 365 for 500 dollars.\n"
          ]
        }
      ]
    },
    {
      "cell_type": "code",
      "source": [
        "a=\"i\\ went to\\ home for\\ pongal\"\n",
        "print(a)"
      ],
      "metadata": {
        "colab": {
          "base_uri": "https://localhost:8080/"
        },
        "id": "ArafKGl4PtUs",
        "outputId": "f0107778-c7cb-427b-eb1c-7ea4774f28a7"
      },
      "execution_count": 51,
      "outputs": [
        {
          "output_type": "stream",
          "name": "stdout",
          "text": [
            "i\\ went to\\ home for\\ pongal\n"
          ]
        }
      ]
    },
    {
      "cell_type": "code",
      "source": [
        "a=\"hi,i went to home for pongal\"\n",
        "x = a.casefold()\n",
        "print(a)"
      ],
      "metadata": {
        "colab": {
          "base_uri": "https://localhost:8080/"
        },
        "id": "DZwQx_V3RHa8",
        "outputId": "3823fff3-d62a-4904-82d1-417844e3e0ff"
      },
      "execution_count": 55,
      "outputs": [
        {
          "output_type": "stream",
          "name": "stdout",
          "text": [
            "hi,i went to home for pongal\n"
          ]
        }
      ]
    },
    {
      "cell_type": "code",
      "source": [
        ""
      ],
      "metadata": {
        "id": "KrlAJRGRSRrt"
      },
      "execution_count": null,
      "outputs": []
    }
  ]
}