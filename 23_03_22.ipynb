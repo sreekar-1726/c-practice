{
  "nbformat": 4,
  "nbformat_minor": 0,
  "metadata": {
    "colab": {
      "name": "23/03/22.ipynb",
      "provenance": [],
      "authorship_tag": "ABX9TyP+b1dYzQwFfQzd6je/g/T8",
      "include_colab_link": true
    },
    "kernelspec": {
      "name": "python3",
      "display_name": "Python 3"
    },
    "language_info": {
      "name": "python"
    }
  },
  "cells": [
    {
      "cell_type": "markdown",
      "metadata": {
        "id": "view-in-github",
        "colab_type": "text"
      },
      "source": [
        "<a href=\"https://colab.research.google.com/github/sreekar-1726/c-practice/blob/main/23_03_22.ipynb\" target=\"_parent\"><img src=\"https://colab.research.google.com/assets/colab-badge.svg\" alt=\"Open In Colab\"/></a>"
      ]
    },
    {
      "cell_type": "markdown",
      "source": [
        "#fruit names\n"
      ],
      "metadata": {
        "id": "sMNkJgAA5A6r"
      }
    },
    {
      "cell_type": "code",
      "execution_count": 4,
      "metadata": {
        "colab": {
          "base_uri": "https://localhost:8080/"
        },
        "id": "Dqpy1IPU4TLt",
        "outputId": "161b685a-7958-45a7-efd7-e12a4c811813"
      },
      "outputs": [
        {
          "output_type": "stream",
          "name": "stdout",
          "text": [
            "['mango', 'apple', 'orange', 'pappaya', 'grapes']\n",
            "apple\n",
            "orange\n",
            "pappaya\n",
            "grapes\n"
          ]
        }
      ],
      "source": [
        "fruit=['mango','apple','orange','pappaya','grapes']\n",
        "print(fruit[0:5])\n",
        "print(fruit[1])\n",
        "print(fruit[2])\n",
        "print(fruit[3])\n",
        "print(fruit[4])"
      ]
    },
    {
      "cell_type": "code",
      "source": [
        "fruit=['mango','apple','orange','pappaya','grapes']\n",
        "print(fruit[0],fruit[-2])\n",
        "print(fruit[1])\n",
        "print(fruit[2])\n",
        "print(fruit[3])\n",
        "print(fruit[4])"
      ],
      "metadata": {
        "colab": {
          "base_uri": "https://localhost:8080/"
        },
        "id": "i3BiCfCo6utc",
        "outputId": "766e05a2-da24-431d-c6d0-243cadf3ed13"
      },
      "execution_count": 5,
      "outputs": [
        {
          "output_type": "stream",
          "name": "stdout",
          "text": [
            "mango pappaya\n",
            "apple\n",
            "orange\n",
            "pappaya\n",
            "grapes\n"
          ]
        }
      ]
    },
    {
      "cell_type": "code",
      "source": [
        "fruit=['mango','apple','orange','pappaya','grapes']\n",
        "\n",
        "print(fruit[0],fruit[-2])\n",
        "print(fruit[1:5:3])\n",
        "print(fruit[2:])\n",
        "print(fruit[:3])\n",
        "print(fruit[4])"
      ],
      "metadata": {
        "colab": {
          "base_uri": "https://localhost:8080/"
        },
        "id": "b_w4XDaV7Il7",
        "outputId": "8ce2ad0f-1090-48aa-be10-d0f82103fc4d"
      },
      "execution_count": 6,
      "outputs": [
        {
          "output_type": "stream",
          "name": "stdout",
          "text": [
            "mango pappaya\n",
            "['apple', 'grapes']\n",
            "['orange', 'pappaya', 'grapes']\n",
            "['mango', 'apple', 'orange']\n",
            "grapes\n"
          ]
        }
      ]
    },
    {
      "cell_type": "code",
      "source": [
        "a=[33,36,69,96]\n",
        "b=[336,341,200,32\n",
        "   print(a[0]+a[1])\n",
        "   print"
      ],
      "metadata": {
        "id": "UnL7x6bl_LPP"
      },
      "execution_count": null,
      "outputs": []
    },
    {
      "cell_type": "code",
      "source": [
        "for i in range(1, 5)\n",
        "   print(i)"
      ],
      "metadata": {
        "colab": {
          "base_uri": "https://localhost:8080/",
          "height": 130
        },
        "id": "jAZqzhyADLQy",
        "outputId": "8bcb02ca-b11f-4e13-e200-21c25a9141ad"
      },
      "execution_count": 7,
      "outputs": [
        {
          "output_type": "error",
          "ename": "SyntaxError",
          "evalue": "ignored",
          "traceback": [
            "\u001b[0;36m  File \u001b[0;32m\"<ipython-input-7-e114c67e9cdc>\"\u001b[0;36m, line \u001b[0;32m1\u001b[0m\n\u001b[0;31m    for i in range(1, 5)\u001b[0m\n\u001b[0m                        ^\u001b[0m\n\u001b[0;31mSyntaxError\u001b[0m\u001b[0;31m:\u001b[0m invalid syntax\n"
          ]
        }
      ]
    }
  ]
}