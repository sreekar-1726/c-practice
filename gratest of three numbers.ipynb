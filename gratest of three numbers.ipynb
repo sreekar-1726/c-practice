{
  "nbformat": 4,
  "nbformat_minor": 0,
  "metadata": {
    "colab": {
      "name": "Untitled3.ipynb",
      "provenance": [],
      "authorship_tag": "ABX9TyM+TSRQUGhWf9Hq1uH3fo2q",
      "include_colab_link": true
    },
    "kernelspec": {
      "name": "python3",
      "display_name": "Python 3"
    },
    "language_info": {
      "name": "python"
    }
  },
  "cells": [
    {
      "cell_type": "markdown",
      "metadata": {
        "id": "view-in-github",
        "colab_type": "text"
      },
      "source": [
        "<a href=\"https://colab.research.google.com/github/sreekar-1726/c-practice/blob/main/gratest%20of%20three%20numbers.ipynb\" target=\"_parent\"><img src=\"https://colab.research.google.com/assets/colab-badge.svg\" alt=\"Open In Colab\"/></a>"
      ]
    },
    {
      "cell_type": "code",
      "execution_count": 4,
      "metadata": {
        "id": "6Mn6p9oRPhlc"
      },
      "outputs": [],
      "source": [
        "#find the person whether eligible to vote or not"
      ]
    },
    {
      "cell_type": "code",
      "source": [
        "a=int(input())\n",
        "if a>=18:\n",
        "          print('elgible to vote')\n",
        "else:\n",
        "          print('not eligible to vote')"
      ],
      "metadata": {
        "colab": {
          "base_uri": "https://localhost:8080/"
        },
        "id": "AqsIQDSxQWsH",
        "outputId": "2d355797-37f1-45e6-cd06-f1d0f1348385"
      },
      "execution_count": 7,
      "outputs": [
        {
          "output_type": "stream",
          "name": "stdout",
          "text": [
            "25\n",
            "elgible to vote\n"
          ]
        }
      ]
    },
    {
      "cell_type": "code",
      "source": [
        "#gratest of three numbers\n"
      ],
      "metadata": {
        "id": "wU239991RvNm"
      },
      "execution_count": null,
      "outputs": []
    },
    {
      "cell_type": "code",
      "source": [
        "(a,b,c)=(int(input()),int(input()),int(input()))\n",
        "if c<a>b:\n",
        "          print(\"a is grater\")\n",
        "if a<b>c:\n",
        "          print(\"b is grater\")\n",
        "if a<c>b:\n",
        "          print(\"c is grater\")"
      ],
      "metadata": {
        "colab": {
          "base_uri": "https://localhost:8080/"
        },
        "id": "A8qNVgpfTNLx",
        "outputId": "7b5d3de3-0652-4147-cf79-4e9d9b190aca"
      },
      "execution_count": 11,
      "outputs": [
        {
          "output_type": "stream",
          "name": "stdout",
          "text": [
            "7\n",
            "8\n",
            "9\n",
            "c is grater\n"
          ]
        }
      ]
    }
  ]
}