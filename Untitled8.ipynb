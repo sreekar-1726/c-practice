{
  "nbformat": 4,
  "nbformat_minor": 0,
  "metadata": {
    "colab": {
      "name": "Untitled8.ipynb",
      "provenance": [],
      "authorship_tag": "ABX9TyOKCp5iWUXLnUlVXd+s7kmO",
      "include_colab_link": true
    },
    "kernelspec": {
      "name": "python3",
      "display_name": "Python 3"
    },
    "language_info": {
      "name": "python"
    }
  },
  "cells": [
    {
      "cell_type": "markdown",
      "metadata": {
        "id": "view-in-github",
        "colab_type": "text"
      },
      "source": [
        "<a href=\"https://colab.research.google.com/github/sreekar-1726/c-practice/blob/main/Untitled8.ipynb\" target=\"_parent\"><img src=\"https://colab.research.google.com/assets/colab-badge.svg\" alt=\"Open In Colab\"/></a>"
      ]
    },
    {
      "cell_type": "markdown",
      "source": [
        "write a program to print prime numbers in a given range \n",
        "def prime(a,b);\n",
        "pass"
      ],
      "metadata": {
        "id": "WbH4eZHNaXpt"
      }
    },
    {
      "cell_type": "code",
      "execution_count": 32,
      "metadata": {
        "colab": {
          "base_uri": "https://localhost:8080/",
          "height": 339
        },
        "id": "nU6xNc_TaWVl",
        "outputId": "bdf4905a-5554-421c-8c37-6eafcfcb3fd4"
      },
      "outputs": [
        {
          "name": "stdout",
          "output_type": "stream",
          "text": [
            "enter number 1 :11\n",
            "enter number 2 :15\n"
          ]
        },
        {
          "output_type": "error",
          "ename": "TypeError",
          "evalue": "ignored",
          "traceback": [
            "\u001b[0;31m---------------------------------------------------------------------------\u001b[0m",
            "\u001b[0;31mTypeError\u001b[0m                                 Traceback (most recent call last)",
            "\u001b[0;32m<ipython-input-32-ac589219c82b>\u001b[0m in \u001b[0;36m<module>\u001b[0;34m()\u001b[0m\n\u001b[1;32m      9\u001b[0m     \u001b[0;32mif\u001b[0m \u001b[0mk\u001b[0m\u001b[0;34m==\u001b[0m\u001b[0;36m0\u001b[0m\u001b[0;34m:\u001b[0m\u001b[0;34m\u001b[0m\u001b[0;34m\u001b[0m\u001b[0m\n\u001b[1;32m     10\u001b[0m       \u001b[0mprint\u001b[0m\u001b[0;34m(\u001b[0m\u001b[0mi\u001b[0m\u001b[0;34m)\u001b[0m\u001b[0;34m\u001b[0m\u001b[0;34m\u001b[0m\u001b[0m\n\u001b[0;32m---> 11\u001b[0;31m \u001b[0mprime\u001b[0m\u001b[0;34m(\u001b[0m\u001b[0ma\u001b[0m\u001b[0;34m,\u001b[0m\u001b[0mb\u001b[0m\u001b[0;34m)\u001b[0m\u001b[0;34m\u001b[0m\u001b[0;34m\u001b[0m\u001b[0m\n\u001b[0m",
            "\u001b[0;32m<ipython-input-32-ac589219c82b>\u001b[0m in \u001b[0;36mprime\u001b[0;34m(a, b)\u001b[0m\n\u001b[1;32m      8\u001b[0m         \u001b[0mk\u001b[0m\u001b[0;34m+=\u001b[0m\u001b[0mi\u001b[0m\u001b[0;34m\u001b[0m\u001b[0;34m\u001b[0m\u001b[0m\n\u001b[1;32m      9\u001b[0m     \u001b[0;32mif\u001b[0m \u001b[0mk\u001b[0m\u001b[0;34m==\u001b[0m\u001b[0;36m0\u001b[0m\u001b[0;34m:\u001b[0m\u001b[0;34m\u001b[0m\u001b[0;34m\u001b[0m\u001b[0m\n\u001b[0;32m---> 10\u001b[0;31m       \u001b[0mprint\u001b[0m\u001b[0;34m(\u001b[0m\u001b[0mi\u001b[0m\u001b[0;34m)\u001b[0m\u001b[0;34m\u001b[0m\u001b[0;34m\u001b[0m\u001b[0m\n\u001b[0m\u001b[1;32m     11\u001b[0m \u001b[0mprime\u001b[0m\u001b[0;34m(\u001b[0m\u001b[0ma\u001b[0m\u001b[0;34m,\u001b[0m\u001b[0mb\u001b[0m\u001b[0;34m)\u001b[0m\u001b[0;34m\u001b[0m\u001b[0;34m\u001b[0m\u001b[0m\n",
            "\u001b[0;31mTypeError\u001b[0m: print() missing 1 required positional argument: 'b'"
          ]
        }
      ],
      "source": [
        "a=int(input(\"enter number 1 :\"))\n",
        "b=int(input(\"enter number 2 :\"))\n",
        "def prime(a,b):\n",
        "  for i in range(a,b+1):\n",
        "     k=0\n",
        "     for j in range(2,i):\n",
        "      if i%j==0:\n",
        "        k+=i\n",
        "  if k==0:\n",
        "      print(i)\n",
        "prime(a,b)\n"
      ]
    },
    {
      "cell_type": "code",
      "source": [
        "a=int(input(\"enter number 1 :\"))\n",
        "b=int(input(\"enter number 2 :\"))\n",
        "def prime(a,b):\n",
        "  for i in range(a,b+1):\n",
        "     k=0\n",
        "     for j in range(2,i):\n",
        "      if i%j==0:\n",
        "        k+=i\n",
        "  if k==0:\n",
        "      print(i)\n",
        "prime(a,b)\n"
      ],
      "metadata": {
        "id": "NpwPB5ANt1Xy"
      },
      "execution_count": null,
      "outputs": []
    },
    {
      "cell_type": "markdown",
      "source": [
        "write a program to read any month number in integer and display the number of days for the month\n"
      ],
      "metadata": {
        "id": "7si33S2sarfH"
      }
    },
    {
      "cell_type": "code",
      "source": [
        "a=int(intut(\"enter month number:\"))\n",
        "b=[4,6,9,11]\n",
        "ifa==2:\n",
        "print(\"28/29\")\n"
      ],
      "metadata": {
        "id": "GdpyNCx3a8NF"
      },
      "execution_count": null,
      "outputs": []
    },
    {
      "cell_type": "markdown",
      "source": [
        "write a python program to print even length words in a string\n",
        "example\n",
        "input:\"this is a python class\"\n",
        "output:this is python"
      ],
      "metadata": {
        "id": "YM6bLd5na8ml"
      }
    },
    {
      "cell_type": "code",
      "source": [
        "s=\"This is a python class\"\n",
        "s = s.split(' ') \n",
        "  for x in s:\n",
        "     if len(x)%2==0:\n",
        "  print(x) \n",
        " s = \"this is python class\" \n",
        "print x(s) "
      ],
      "metadata": {
        "colab": {
          "base_uri": "https://localhost:8080/",
          "height": 130
        },
        "id": "49XLIfRDi4U0",
        "outputId": "1f567169-2332-49c3-caca-5360e0067959"
      },
      "execution_count": 18,
      "outputs": [
        {
          "output_type": "error",
          "ename": "IndentationError",
          "evalue": "ignored",
          "traceback": [
            "\u001b[0;36m  File \u001b[0;32m\"<ipython-input-18-5b29934c1029>\"\u001b[0;36m, line \u001b[0;32m3\u001b[0m\n\u001b[0;31m    for x in s:\u001b[0m\n\u001b[0m    ^\u001b[0m\n\u001b[0;31mIndentationError\u001b[0m\u001b[0;31m:\u001b[0m unexpected indent\n"
          ]
        }
      ]
    },
    {
      "cell_type": "code",
      "source": [
        "def PrintEvenWords(s):\n",
        "  s=s.split(' ')\n",
        "  for word in s:\n",
        "        if len(word)%2==0:\n",
        "          print(word)\n",
        "string=\"This is a python class\"\n",
        "  print(string)"
      ],
      "metadata": {
        "colab": {
          "base_uri": "https://localhost:8080/",
          "height": 200
        },
        "id": "L0axuYBQpZ4E",
        "outputId": "6c134dfc-1a8c-4851-f5f2-2b62eabb01f9"
      },
      "execution_count": 20,
      "outputs": [
        {
          "output_type": "error",
          "ename": "TypeError",
          "evalue": "ignored",
          "traceback": [
            "\u001b[0;31m---------------------------------------------------------------------------\u001b[0m",
            "\u001b[0;31mTypeError\u001b[0m                                 Traceback (most recent call last)",
            "\u001b[0;32m<ipython-input-20-3fc7b3e25e92>\u001b[0m in \u001b[0;36m<module>\u001b[0;34m()\u001b[0m\n\u001b[1;32m      5\u001b[0m           \u001b[0mprint\u001b[0m\u001b[0;34m(\u001b[0m\u001b[0mword\u001b[0m\u001b[0;34m)\u001b[0m\u001b[0;34m\u001b[0m\u001b[0;34m\u001b[0m\u001b[0m\n\u001b[1;32m      6\u001b[0m \u001b[0mstring\u001b[0m\u001b[0;34m=\u001b[0m\u001b[0;34m\"This is a python class\"\u001b[0m\u001b[0;34m\u001b[0m\u001b[0;34m\u001b[0m\u001b[0m\n\u001b[0;32m----> 7\u001b[0;31m \u001b[0mprint\u001b[0m\u001b[0;34m(\u001b[0m\u001b[0mstring\u001b[0m\u001b[0;34m)\u001b[0m\u001b[0;34m\u001b[0m\u001b[0;34m\u001b[0m\u001b[0m\n\u001b[0m",
            "\u001b[0;31mTypeError\u001b[0m: print() missing 1 required positional argument: 'b'"
          ]
        }
      ]
    },
    {
      "cell_type": "markdown",
      "source": [
        "write a python program to capitalize the first and last character of each word"
      ],
      "metadata": {
        "id": "ZVxF-FIsbM8N"
      }
    },
    {
      "cell_type": "code",
      "source": [
        "a=eval(input(\"Enter list of integers:\"))\n",
        "b=\"\"\n",
        "for i in a:\n",
        "  b+=str(i)\n",
        "print(b)"
      ],
      "metadata": {
        "id": "gR-7Jaadb4AU"
      },
      "execution_count": null,
      "outputs": []
    },
    {
      "cell_type": "markdown",
      "source": [
        "write a program to read a string from user display first  charector of each word with capital letter\n",
        "example:ram went for school\n",
        "output:RAM WENT FOR SCHOOL"
      ],
      "metadata": {
        "id": "5WwVnIMLb470"
      }
    },
    {
      "cell_type": "code",
      "source": [
        ""
      ],
      "metadata": {
        "id": "RY0zqN20cSet"
      },
      "execution_count": null,
      "outputs": []
    },
    {
      "cell_type": "markdown",
      "source": [
        "write a python program to convert  a list of multiple integes into a single integer\n",
        "input[11,35,50]\n",
        "output:113350"
      ],
      "metadata": {
        "id": "rT7rCEC7cSo9"
      }
    },
    {
      "cell_type": "code",
      "source": [
        "x = [11, 33, 50]\n",
        "y = int(\"\".join(map(str, x)))\n",
        "print(\"Original List: \",x)\n",
        "print(\"Single Integer: \",y)\n"
      ],
      "metadata": {
        "colab": {
          "base_uri": "https://localhost:8080/"
        },
        "id": "U4h-WNvMcpKN",
        "outputId": "2cd44727-6103-456f-cffd-11db8b4c0e1f"
      },
      "execution_count": 1,
      "outputs": [
        {
          "output_type": "stream",
          "name": "stdout",
          "text": [
            "Original List:  [11, 33, 50]\n",
            "Single Integer:  113350\n"
          ]
        }
      ]
    }
  ]
}