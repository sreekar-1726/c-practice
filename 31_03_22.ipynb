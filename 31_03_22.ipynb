{
  "nbformat": 4,
  "nbformat_minor": 0,
  "metadata": {
    "colab": {
      "name": "31/03/22",
      "provenance": [],
      "authorship_tag": "ABX9TyMs93+qSNwcD964KJzv/WmF",
      "include_colab_link": true
    },
    "kernelspec": {
      "name": "python3",
      "display_name": "Python 3"
    },
    "language_info": {
      "name": "python"
    }
  },
  "cells": [
    {
      "cell_type": "markdown",
      "metadata": {
        "id": "view-in-github",
        "colab_type": "text"
      },
      "source": [
        "<a href=\"https://colab.research.google.com/github/sreekar-1726/c-practice/blob/main/31_03_22.ipynb\" target=\"_parent\"><img src=\"https://colab.research.google.com/assets/colab-badge.svg\" alt=\"Open In Colab\"/></a>"
      ]
    },
    {
      "cell_type": "code",
      "execution_count": 1,
      "metadata": {
        "colab": {
          "base_uri": "https://localhost:8080/"
        },
        "id": "OXBHTo0LfcvY",
        "outputId": "b77d21dc-8d99-458f-9ffd-0697e0c3b82c"
      },
      "outputs": [
        {
          "output_type": "stream",
          "name": "stdout",
          "text": [
            "my name is sreekar,i am studing in gitam\n"
          ]
        }
      ],
      "source": [
        "a=\"my name is sreekar,i am studing in gitam\"\n",
        "print(a)"
      ]
    },
    {
      "cell_type": "code",
      "source": [
        "a=\"my name is sreekar,i am studing in gitam\"\n",
        "print(\"sreekar\" in a)"
      ],
      "metadata": {
        "colab": {
          "base_uri": "https://localhost:8080/"
        },
        "id": "dSs_ALCMg5pU",
        "outputId": "73b190b2-2cbf-4d58-b012-3de47d306c59"
      },
      "execution_count": 3,
      "outputs": [
        {
          "output_type": "stream",
          "name": "stdout",
          "text": [
            "True\n"
          ]
        }
      ]
    },
    {
      "cell_type": "code",
      "source": [
        "a=\"my name is sreekar,i am studing in gitam\"\n",
        "if\"gitam\" in a:\n",
        "  print(\"yes, ='gitam' is present\" )"
      ],
      "metadata": {
        "colab": {
          "base_uri": "https://localhost:8080/"
        },
        "id": "wy7H2wjdhHQL",
        "outputId": "1c7e8ce4-7118-4538-adb7-a360c4648c2a"
      },
      "execution_count": 5,
      "outputs": [
        {
          "output_type": "stream",
          "name": "stdout",
          "text": [
            "yes, ='gitam' is present\n"
          ]
        }
      ]
    },
    {
      "cell_type": "code",
      "source": [
        "a=\"my name is sreekar,i am studing in gitam\"\n",
        "print(\"study\" not in a)"
      ],
      "metadata": {
        "colab": {
          "base_uri": "https://localhost:8080/"
        },
        "id": "6h9uVGS9hvYC",
        "outputId": "6d133208-0169-4068-e87c-f39e11e4dc81"
      },
      "execution_count": 6,
      "outputs": [
        {
          "output_type": "stream",
          "name": "stdout",
          "text": [
            "True\n"
          ]
        }
      ]
    },
    {
      "cell_type": "code",
      "source": [
        "a=\"my name is sreekar,i am studing in gitam\"\n",
        "if \"study\" not in a:\n",
        " print(\"No, 'study' is not present\")"
      ],
      "metadata": {
        "colab": {
          "base_uri": "https://localhost:8080/"
        },
        "id": "DbqqskZMiFxt",
        "outputId": "bf46b105-898e-4660-bb61-249268a5de8a"
      },
      "execution_count": 12,
      "outputs": [
        {
          "output_type": "stream",
          "name": "stdout",
          "text": [
            "No, 'study' is not present\n"
          ]
        }
      ]
    },
    {
      "cell_type": "code",
      "source": [
        "a=\"my name is sreekar,i am studing in gitam\"\n",
        "print(a[5:13])"
      ],
      "metadata": {
        "colab": {
          "base_uri": "https://localhost:8080/"
        },
        "id": "ad4hI-1Alcbb",
        "outputId": "d3e6e59d-820b-4283-efc4-077d361668f7"
      },
      "execution_count": 13,
      "outputs": [
        {
          "output_type": "stream",
          "name": "stdout",
          "text": [
            "me is sr\n"
          ]
        }
      ]
    },
    {
      "cell_type": "code",
      "source": [
        "a=\"my name is sreekar,i am studing in gitam\"\n",
        "print(a[:5])"
      ],
      "metadata": {
        "colab": {
          "base_uri": "https://localhost:8080/"
        },
        "id": "lx16XuzXmAIK",
        "outputId": "48013635-240c-45a1-aef5-c177ac2b840b"
      },
      "execution_count": 16,
      "outputs": [
        {
          "output_type": "stream",
          "name": "stdout",
          "text": [
            "my na\n"
          ]
        }
      ]
    },
    {
      "cell_type": "code",
      "source": [
        "a=\"my name is sreekar,i am studing in gitam\"\n",
        "print(a[5:])"
      ],
      "metadata": {
        "colab": {
          "base_uri": "https://localhost:8080/"
        },
        "id": "fAfeye52nMYj",
        "outputId": "6d3bca54-4d04-4c44-da0d-342b905f875c"
      },
      "execution_count": 17,
      "outputs": [
        {
          "output_type": "stream",
          "name": "stdout",
          "text": [
            "me is sreekar,i am studing in gitam\n"
          ]
        }
      ]
    },
    {
      "cell_type": "code",
      "source": [
        "a=\"my name is sreekar,i am studing in gitam\"\n",
        "print(a[-6:-3])"
      ],
      "metadata": {
        "colab": {
          "base_uri": "https://localhost:8080/"
        },
        "id": "d-BLxJ95nX1E",
        "outputId": "1be2920f-e347-473f-b908-8041e3076d1e"
      },
      "execution_count": 19,
      "outputs": [
        {
          "output_type": "stream",
          "name": "stdout",
          "text": [
            " gi\n"
          ]
        }
      ]
    },
    {
      "cell_type": "code",
      "source": [
        "a=\"my name is sreekar,i am studing in gitam\"\n",
        "print(a.upper())"
      ],
      "metadata": {
        "colab": {
          "base_uri": "https://localhost:8080/"
        },
        "id": "5HCrRopJnlUL",
        "outputId": "38452eeb-4702-4b40-b8b2-e7aad23a7249"
      },
      "execution_count": 20,
      "outputs": [
        {
          "output_type": "stream",
          "name": "stdout",
          "text": [
            "MY NAME IS SREEKAR,I AM STUDING IN GITAM\n"
          ]
        }
      ]
    },
    {
      "cell_type": "code",
      "source": [
        "a=\"my name is sreekar,i am studing in gitam\"\n",
        "print(a.lower())"
      ],
      "metadata": {
        "colab": {
          "base_uri": "https://localhost:8080/"
        },
        "id": "QgMpp5nhn2k8",
        "outputId": "065ee628-8851-4202-ee73-1328d2e5af10"
      },
      "execution_count": 21,
      "outputs": [
        {
          "output_type": "stream",
          "name": "stdout",
          "text": [
            "my name is sreekar,i am studing in gitam\n"
          ]
        }
      ]
    },
    {
      "cell_type": "code",
      "source": [
        "a=\"     my name is sreekar,i am studing in gitam         \"\n",
        "print(a.strip())"
      ],
      "metadata": {
        "colab": {
          "base_uri": "https://localhost:8080/"
        },
        "id": "GzmKVh2Rn9ab",
        "outputId": "97989fb7-d3e0-40e8-96d3-1ba722120818"
      },
      "execution_count": 22,
      "outputs": [
        {
          "output_type": "stream",
          "name": "stdout",
          "text": [
            "my name is sreekar,i am studing in gitam\n"
          ]
        }
      ]
    },
    {
      "cell_type": "code",
      "source": [
        "a=\"my name is sreekar,i am studing in gitam\"\n",
        "print(a.replace(\"sreekar\", \"Jayanth\"))"
      ],
      "metadata": {
        "colab": {
          "base_uri": "https://localhost:8080/"
        },
        "id": "mIy1ocdsoLbj",
        "outputId": "8faf9131-93ca-4986-c137-caf8bf78b910"
      },
      "execution_count": 23,
      "outputs": [
        {
          "output_type": "stream",
          "name": "stdout",
          "text": [
            "my name is Jayanth,i am studing in gitam\n"
          ]
        }
      ]
    },
    {
      "cell_type": "code",
      "source": [
        "a=\"my name is sreekar,i am studing in gitam\"\n",
        "print(a.split(\",\"))"
      ],
      "metadata": {
        "colab": {
          "base_uri": "https://localhost:8080/"
        },
        "id": "8_vGcpVKogqT",
        "outputId": "312b21a5-6dd7-47f8-9d9e-af6a61db9d55"
      },
      "execution_count": 24,
      "outputs": [
        {
          "output_type": "stream",
          "name": "stdout",
          "text": [
            "['my name is sreekar', 'i am studing in gitam']\n"
          ]
        }
      ]
    },
    {
      "cell_type": "code",
      "source": [
        "a=\"my name is sreekar\"\n",
        "b=\" i am studing in gitam\"\n",
        "c=a+b\n",
        "print(c)\n"
      ],
      "metadata": {
        "colab": {
          "base_uri": "https://localhost:8080/"
        },
        "id": "-Tj35nFfor30",
        "outputId": "c0fb1bbe-b877-4b52-99ef-6f7265ffd035"
      },
      "execution_count": 26,
      "outputs": [
        {
          "output_type": "stream",
          "name": "stdout",
          "text": [
            "my name is sreekar i am studing in gitam\n"
          ]
        }
      ]
    },
    {
      "cell_type": "code",
      "source": [
        "a=\"my name is sreekar\"\n",
        "b=\" i am studing in gitam\"\n",
        "c = a + \" \" + b\n",
        "print(c)"
      ],
      "metadata": {
        "colab": {
          "base_uri": "https://localhost:8080/"
        },
        "id": "c_Y9Spo5pHEk",
        "outputId": "6ea87d35-c473-4a53-95f9-d055878d3916"
      },
      "execution_count": 27,
      "outputs": [
        {
          "output_type": "stream",
          "name": "stdout",
          "text": [
            "my name is sreekar  i am studing in gitam\n"
          ]
        }
      ]
    },
    {
      "cell_type": "code",
      "source": [
        "age=18\n",
        "a=\"My name is sreekar, and I am {}\"\n",
        "print(a.format(age))"
      ],
      "metadata": {
        "colab": {
          "base_uri": "https://localhost:8080/"
        },
        "id": "E2E7KOh5pPrl",
        "outputId": "4cc0f6e7-b792-4627-880e-b25125c7ff70"
      },
      "execution_count": 29,
      "outputs": [
        {
          "output_type": "stream",
          "name": "stdout",
          "text": [
            "My name is sreekar, and I am 18\n"
          ]
        }
      ]
    },
    {
      "cell_type": "code",
      "source": [
        "tikets = 2\n",
        "price =400\n",
        "time =3\n",
        "myorder = \"I brought train tikets of {} and price of tikets is {} and the time of the train is {}pm .\"\n",
        "print(myorder.format(tikets,price,time))"
      ],
      "metadata": {
        "colab": {
          "base_uri": "https://localhost:8080/"
        },
        "id": "EHhWq6pppzmD",
        "outputId": "8bcf873b-4934-4696-a243-1a936118442a"
      },
      "execution_count": 47,
      "outputs": [
        {
          "output_type": "stream",
          "name": "stdout",
          "text": [
            "I brought train tikets of 2 and price of tikets is 400 and the time of the train is 3pm .\n"
          ]
        }
      ]
    },
    {
      "cell_type": "code",
      "source": [
        ""
      ],
      "metadata": {
        "id": "OL42O4sUsPj_"
      },
      "execution_count": null,
      "outputs": []
    }
  ]
}