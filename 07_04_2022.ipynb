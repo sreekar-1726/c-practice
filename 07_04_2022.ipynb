{
  "nbformat": 4,
  "nbformat_minor": 0,
  "metadata": {
    "colab": {
      "name": "07/04/2022",
      "provenance": [],
      "authorship_tag": "ABX9TyM/wvGwJ36IeMnnzTQiJ2SZ",
      "include_colab_link": true
    },
    "kernelspec": {
      "name": "python3",
      "display_name": "Python 3"
    },
    "language_info": {
      "name": "python"
    }
  },
  "cells": [
    {
      "cell_type": "markdown",
      "metadata": {
        "id": "view-in-github",
        "colab_type": "text"
      },
      "source": [
        "<a href=\"https://colab.research.google.com/github/sreekar-1726/c-practice/blob/main/07_04_2022.ipynb\" target=\"_parent\"><img src=\"https://colab.research.google.com/assets/colab-badge.svg\" alt=\"Open In Colab\"/></a>"
      ]
    },
    {
      "cell_type": "markdown",
      "source": [
        "Tuple\n"
      ],
      "metadata": {
        "id": "U_XHvTKPlcJg"
      }
    },
    {
      "cell_type": "code",
      "execution_count": 7,
      "metadata": {
        "colab": {
          "base_uri": "https://localhost:8080/"
        },
        "id": "NS8keFvCik0l",
        "outputId": "ce05d26a-5acc-4171-afbc-29095137f713"
      },
      "outputs": [
        {
          "output_type": "stream",
          "name": "stdout",
          "text": [
            "('apple', 'cherry', 'banana', 'stroberry')\n"
          ]
        }
      ],
      "source": [
        "fruits = (\"apple\",\"cherry\",\"banana\",\"stroberry\")\n",
        "print(fruits)"
      ]
    },
    {
      "cell_type": "code",
      "source": [
        "fruits=[1,4,8,3,1,2,1,3,1,1,1,1]\n",
        "x=fruits.count(1)\n",
        "y=len(fruits)\n",
        "print(x)\n",
        "print(y)"
      ],
      "metadata": {
        "colab": {
          "base_uri": "https://localhost:8080/"
        },
        "id": "CyK7_iOGlbWh",
        "outputId": "8cc90bb7-8789-46e8-e563-ab5e4dbbaab1"
      },
      "execution_count": 6,
      "outputs": [
        {
          "output_type": "stream",
          "name": "stdout",
          "text": [
            "7\n",
            "12\n"
          ]
        }
      ]
    },
    {
      "cell_type": "code",
      "source": [
        "fruit = (\"cherry\",)\n",
        "print(type(fruit))\n",
        "fruit = (\"cherry\")\n",
        "print(type(fruit))"
      ],
      "metadata": {
        "colab": {
          "base_uri": "https://localhost:8080/"
        },
        "id": "FIVnKgmYmf0h",
        "outputId": "881b7072-ee10-4d56-ce85-a2a0f45293f0"
      },
      "execution_count": 9,
      "outputs": [
        {
          "output_type": "stream",
          "name": "stdout",
          "text": [
            "<class 'tuple'>\n",
            "<class 'str'>\n"
          ]
        }
      ]
    },
    {
      "cell_type": "code",
      "source": [
        "a = (\"apple\", \"banana\", \"cherry\")\n",
        "b = (1, 5, 7, 9, 3)\n",
        "c = (True, False, False)\n",
        "\n",
        "print(a)\n",
        "print(b)\n",
        "print(c)"
      ],
      "metadata": {
        "colab": {
          "base_uri": "https://localhost:8080/"
        },
        "id": "Bg-BFB_mnyOx",
        "outputId": "15a24b51-6671-4926-ed88-f32defcb547f"
      },
      "execution_count": 10,
      "outputs": [
        {
          "output_type": "stream",
          "name": "stdout",
          "text": [
            "('apple', 'banana', 'cherry')\n",
            "(1, 5, 7, 9, 3)\n",
            "(True, False, False)\n"
          ]
        }
      ]
    },
    {
      "cell_type": "code",
      "source": [
        "a = (\"apple\", \"banana\", \"cherry\")\n",
        "b = (1, 5, 7, 9, 3)\n",
        "c = (True, False, False)\n",
        "\n",
        "print(b)\n",
        "print(c)\n",
        "print(a)"
      ],
      "metadata": {
        "colab": {
          "base_uri": "https://localhost:8080/"
        },
        "id": "zNSnFQffoVEI",
        "outputId": "2ec84e5a-ea2e-4973-c379-120b43a1e17c"
      },
      "execution_count": 11,
      "outputs": [
        {
          "output_type": "stream",
          "name": "stdout",
          "text": [
            "(1, 5, 7, 9, 3)\n",
            "(True, False, False)\n",
            "('apple', 'banana', 'cherry')\n"
          ]
        }
      ]
    },
    {
      "cell_type": "code",
      "source": [
        "a = (\"abc\", 34, True, 40, \"male\")\n",
        "print(a)"
      ],
      "metadata": {
        "colab": {
          "base_uri": "https://localhost:8080/"
        },
        "id": "mAxZoSuVolk_",
        "outputId": "a67ef05a-0793-4f80-8f4e-ca835c527809"
      },
      "execution_count": 12,
      "outputs": [
        {
          "output_type": "stream",
          "name": "stdout",
          "text": [
            "('abc', 34, True, 40, 'male')\n"
          ]
        }
      ]
    },
    {
      "cell_type": "code",
      "source": [
        "a= (\"apple\", \"banana\", \"cherry\")\n",
        "print(type(a))\n"
      ],
      "metadata": {
        "colab": {
          "base_uri": "https://localhost:8080/"
        },
        "id": "MaMuazYmotJP",
        "outputId": "15b80e9a-2dd1-4e8a-d18b-0f01a6d5d94f"
      },
      "execution_count": 13,
      "outputs": [
        {
          "output_type": "stream",
          "name": "stdout",
          "text": [
            "<class 'tuple'>\n"
          ]
        }
      ]
    },
    {
      "cell_type": "code",
      "source": [
        "a = (\"apple\", \"banana\", \"cherry\")\n",
        "print(a[1:3])\n",
        "print(a[-3:-2])\n"
      ],
      "metadata": {
        "colab": {
          "base_uri": "https://localhost:8080/"
        },
        "id": "DDtfBg1Bo98_",
        "outputId": "931f8d72-f85c-4a2f-b4c7-913f55bdee6a"
      },
      "execution_count": 37,
      "outputs": [
        {
          "output_type": "stream",
          "name": "stdout",
          "text": [
            "('banana', 'cherry')\n",
            "('apple',)\n"
          ]
        }
      ]
    },
    {
      "cell_type": "code",
      "source": [
        "a = (\"apple\", \"banana\", \"cherry\")\n",
        "if \"cherry\" in a:\n",
        "  print(\"Yes, 'cherry' is in the fruits tuple\")"
      ],
      "metadata": {
        "colab": {
          "base_uri": "https://localhost:8080/"
        },
        "id": "nS8DBFPHqceA",
        "outputId": "7c549cda-431c-4584-df1f-ef2d4cd6e959"
      },
      "execution_count": 40,
      "outputs": [
        {
          "output_type": "stream",
          "name": "stdout",
          "text": [
            "Yes, 'cherry' is in the fruits tuple\n"
          ]
        }
      ]
    },
    {
      "cell_type": "code",
      "source": [
        "for stars in range(12, 0, -1):\n",
        "   for _ in range((1, stars+1, 1):\n",
        "      prin\n",
        "   p                                                                                                                                                                                                                                                                                                                                                                                                                                                                                r                                                                                                                                                                                                                                                                                                                                 i                                                                                                                                                                                                                                                                                                                                                        n                                                                                                                                                                                                                                                                                                                                                                                                                                    t                                                                                                                                                                                                                                                                                                                                                                                                                                                          (                                                                                                                                                                                                                                                                                                                                                                                                                                                                                                                                                                                                             s                                                                                                                                                                                                                                                                                                                                                                   t                                                                                                                                                                                                                                                                                                                                                                                                                                                                                                              a                                                                                                                                                                                                                                                                                                                                                                                                                                                                                                                                                                                                                                                                                                                  r                                                                                                                                                                                                                                                                                                                                                                                                                                  s                                                                                                                                                                         )"
      ],
      "metadata": {
        "colab": {
          "base_uri": "https://localhost:8080/",
          "height": 130
        },
        "id": "Y-CldNxLuEtt",
        "outputId": "62185208-6173-4c47-9834-d4c81795aa35"
      },
      "execution_count": 43,
      "outputs": [
        {
          "output_type": "error",
          "ename": "SyntaxError",
          "evalue": "ignored",
          "traceback": [
            "\u001b[0;36m  File \u001b[0;32m\"<ipython-input-43-beeab8fdaf64>\"\u001b[0;36m, line \u001b[0;32m2\u001b[0m\n\u001b[0;31m    for _ in range((1, stars+1, 1):\u001b[0m\n\u001b[0m      ^\u001b[0m\n\u001b[0;31mSyntaxError\u001b[0m\u001b[0;31m:\u001b[0m invalid character in identifier\n"
          ]
        }
      ]
    }
  ]
}