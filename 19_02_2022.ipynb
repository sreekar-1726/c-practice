{
  "nbformat": 4,
  "nbformat_minor": 0,
  "metadata": {
    "colab": {
      "name": "19/02/2022",
      "provenance": [],
      "authorship_tag": "ABX9TyNa+hsJAgxfZnxYoKFphC0A",
      "include_colab_link": true
    },
    "kernelspec": {
      "name": "python3",
      "display_name": "Python 3"
    },
    "language_info": {
      "name": "python"
    }
  },
  "cells": [
    {
      "cell_type": "markdown",
      "metadata": {
        "id": "view-in-github",
        "colab_type": "text"
      },
      "source": [
        "<a href=\"https://colab.research.google.com/github/sreekar-1726/c-practice/blob/main/19_02_2022.ipynb\" target=\"_parent\"><img src=\"https://colab.research.google.com/assets/colab-badge.svg\" alt=\"Open In Colab\"/></a>"
      ]
    },
    {
      "cell_type": "markdown",
      "source": [
        "headings"
      ],
      "metadata": {
        "id": "lCdmZk-gYN8C"
      }
    },
    {
      "cell_type": "code",
      "execution_count": 4,
      "metadata": {
        "colab": {
          "base_uri": "https://localhost:8080/"
        },
        "id": "LtRmLh5lW9Bo",
        "outputId": "f4d436d9-6716-48ae-b7cc-a93ebac74dae"
      },
      "outputs": [
        {
          "output_type": "stream",
          "name": "stdout",
          "text": [
            "I\n",
            "like\n",
            "fruits\n"
          ]
        }
      ],
      "source": [
        "def msy():\n",
        "  print(\"I\")\n",
        "  print(\"like\")\n",
        "  print(\"fruits\")\n",
        "\n",
        "msy()"
      ]
    },
    {
      "cell_type": "code",
      "source": [
        "def pawankalyan(fname,lname):\n",
        "  print(fname+\" \"+lname)\n",
        "pawankalyan(\"bheemla\",\"nayak\")"
      ],
      "metadata": {
        "colab": {
          "base_uri": "https://localhost:8080/"
        },
        "id": "ELS1nCZJYRHy",
        "outputId": "3ed8f1fd-c2e1-4090-97e4-c5f34c40c2e8"
      },
      "execution_count": 6,
      "outputs": [
        {
          "output_type": "stream",
          "name": "stdout",
          "text": [
            "bheemla nayak\n"
          ]
        }
      ]
    },
    {
      "cell_type": "code",
      "source": [
        "def vote(age,gender,name):\n",
        "  print(age,gender,name)\n",
        "vote(18,\"male\",\"sreekar\")"
      ],
      "metadata": {
        "colab": {
          "base_uri": "https://localhost:8080/"
        },
        "id": "KYL7ydI0aXXq",
        "outputId": "a025fc0e-f1e7-4417-898a-b98ca30a6178"
      },
      "execution_count": 8,
      "outputs": [
        {
          "output_type": "stream",
          "name": "stdout",
          "text": [
            "18 male sreekar\n"
          ]
        }
      ]
    },
    {
      "cell_type": "code",
      "source": [
        "def vote(age,gender,name):\n",
        "  print(\"age=\",age,\"gender=\",gender,\"name=\",name)\n",
        "vote(18,\"male\",\"sreekar\")"
      ],
      "metadata": {
        "colab": {
          "base_uri": "https://localhost:8080/"
        },
        "id": "CkToH-1fblA5",
        "outputId": "5ecd3ad7-b501-44d8-a2ca-ef2421fe1650"
      },
      "execution_count": 11,
      "outputs": [
        {
          "output_type": "stream",
          "name": "stdout",
          "text": [
            "age= 18 gender= male name= sreekar\n"
          ]
        }
      ]
    },
    {
      "cell_type": "code",
      "source": [
        "def vote(age,gender,name):\n",
        "  print(\"age=\",age,\"gender=\",gender,\"name=\",name)\n",
        "  if age>=18:\n",
        "    print(\"elgeble to vote\")\n",
        "  else:\n",
        "    print(\"not elgeble to vote\")\n",
        "vote(age=int(input()),gender=input(),name=input())"
      ],
      "metadata": {
        "colab": {
          "base_uri": "https://localhost:8080/"
        },
        "id": "EpIL8q8-ikPh",
        "outputId": "1298952d-ba2c-4c6d-f3dd-784787c0f32c"
      },
      "execution_count": 27,
      "outputs": [
        {
          "output_type": "stream",
          "name": "stdout",
          "text": [
            "18\n",
            "male\n",
            "sreekar\n",
            "age= 18 gender= male name= sreekar\n",
            "elgeble to vote\n"
          ]
        }
      ]
    },
    {
      "cell_type": "markdown",
      "source": [
        "#phyton buld in function"
      ],
      "metadata": {
        "id": "7XAxhbktkbb_"
      }
    },
    {
      "cell_type": "code",
      "source": [
        "a=-25.5\n",
        "b=abs\n",
        "print(b)"
      ],
      "metadata": {
        "colab": {
          "base_uri": "https://localhost:8080/"
        },
        "id": "kVEjS0LlhlVR",
        "outputId": "2d636965-3cf7-443e-f16c-e3c2d1317799"
      },
      "execution_count": 29,
      "outputs": [
        {
          "output_type": "stream",
          "name": "stdout",
          "text": [
            "<built-in function abs>\n"
          ]
        }
      ]
    }
  ]
}